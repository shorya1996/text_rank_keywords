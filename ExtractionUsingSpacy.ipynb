{
 "cells": [
  {
   "cell_type": "code",
   "execution_count": 1,
   "metadata": {},
   "outputs": [],
   "source": [
    "import spacy\n",
    "from spacy.matcher import Matcher\n",
    "from spacy.tokens import Span\n",
    "from spacy import displacy"
   ]
  },
  {
   "cell_type": "code",
   "execution_count": 2,
   "metadata": {},
   "outputs": [],
   "source": [
    "from spacy.matcher import PhraseMatcher"
   ]
  },
  {
   "cell_type": "code",
   "execution_count": 3,
   "metadata": {},
   "outputs": [],
   "source": [
    "import readdocx"
   ]
  },
  {
   "cell_type": "code",
   "execution_count": 6,
   "metadata": {},
   "outputs": [],
   "source": [
    "text = readdocx.getDocxText('D:/dataIssue/userStory.docx')"
   ]
  },
  {
   "cell_type": "code",
   "execution_count": 7,
   "metadata": {},
   "outputs": [
    {
     "data": {
      "text/plain": [
       "'User Story 1\\nAs a Loan Officer, I should be able to have chat option against each property to reach out Loan Officer users in the system.\\nAcceptance Criteria/details\\nUser should be able to view a chat icon against each property in the Properties section.\\nUser should be able to view the chat history in the chat option if it exists.\\nUser should be able to add the comments/messages in the chatter feed.\\nUser should be able to edit and delete its own comments in the chatter feed .\\nUser should be able to tag other Loan officers in the messages by simply using “@” before their name and the user will be provided with name suggestions for different Loan officers available in the application. For e.g. as user will be typing \"@\"\\xa0list of all users will be provided to select users from and on type after \"@\" i.e. \"@m\" user should be able to see the list of all users starting with \"m\".\\nTagged users should receive a push notification for the comments they have been tagged in.\\nTagged users should be able to view the link to the property in which the comment has been added for the tagged users in the push notification review.\\nUser should be able to do a text search across the chatter feed so that the user can easily search for the required message(s).\\nOn search, user should be provided with the list of all the messages matching the search criteria.\\nUser should have an option to clear the search. On clear, chatter feed should set to default i.e. list of all the messages should be available to view for the user.\\nUser should be able to add attachments in the form of documents, images, videos etc. across the chatter feed. ( Refer story AL-37)\\nUser should be able to view and download attachments available in the comments across the chatter feed.\\nUser should have an option to delete only the attachment added by the logged in user.\\n\\nUser story 2\\nAs a Loan officer, I should be able to upload attachments against properties.\\nUser should\\xa0have an option of Logging on the property details section to upload documents.\\nUser should have an option in the property details section to view all the existing files available for the selected property.\\nUser should be able to view following fields in the list of existing files:\\nFile Name\\nCreated By\\nCreated On\\nActions : Delete | Download\\nUser should be able to delete the existing files which have been uploaded by the logged-in user and should not have an option to delete the files uploaded by other Loan Officers.\\nUser should have an option for bulk upload to upload more than one file at once.\\xa0\\nUser should have an option to attach different types of file against a property. Following are the permissible file types to be attached:\\njpeg/PNG/JPG/GIF up to 2 MB.\\nDocx/Doc/Txt/PDF/Excel/CSV upto 2MB.\\nVideo Files\\nSystem should not allow the user to upload with Total size of the uploaded file(s) more than 200Mb.\\nUser should be able to view the progress bar to view upload progress for each file.\\nIf the file to be uploaded by the user has the same name as of a file already existing against the same property, then the file name for the new uploaded file will have \"- Copy\"\\xa0 appended at the end.\\nA success message stating \"File Uploaded successfully\" should be shown on the screen on successful file upload.\\nIn case of any failure in uploading files, inspection,  User should be provided with a meaningful and informative error message.\\nUser story 3\\nAs an Underwriter user, I should be able to export all the available data against events.\\nAcceptance Criteria/Details\\nUnderwriter user should be able to export all the data points/columns available against an event in the database.\\nUser should have an option to choose desired data to be exported against an event.\\nIn case of any data point/column added dynamically via ETL, the data point/cplumn should be available in the list of exportable columns.\\nUser should be able to export all the selected columns in an excel file.\\nUser should not be able to view any column in the exportable list of columns that does not exist in the database against events.\\nIn case of any failure while exporting the data into Excel, user should be provided with an error message stating the useful information along with the reason of failure.\\n\\nUser Story 4\\nAs a Servicing user I should be able to view the events data and approve or reject events.\\nAcceptance Criteria/Details\\nUser should be presented with an Event Information screen in read only mode.\\nUser should be able to view below event information: -\\nEvent ID\\nState\\nJurisdiction\\nAcquisition Date\\nFinancing Group\\nPurchasing Entity\\nLien Hierarchy\\nTotal Assets\\nTotal Tax Amount\\nTotal Overbid\\nTotal Premium\\nTotal Interest/Penalty\\nTotal Fee\\nTotal Purchase\\nImport Date\\nHeaders will be fixed in the list and the list will scroll horizontally and vertically.\\nUser will have the ability to approve or reject the events \\nIf the user clicks on approve, .\\nIf the user clicks on reject, then the user needs to select the appropriate reason for rejection from the dropdown provided in the reject reason column Reject reason will be disabled by default, on click of reject the reason dropdown will become enabled as a mandatory option to select.\\n\\nIf User refreshes the page without clicking save, the changes will not be saved, and list will be refreshed to the original state.\\non clicking save .\\nSave option will be shown only if the user approves or rejects any event from the pending events list.\\nIf the User does not select any of the options i.e. approve and reject event, then the event will remain in the list as is and would be available for \\n1displayed,\\n.\\nTotal purchase amount will be derived by sum of Total tax amount, Total overbid, Total Premium, Total Interest/Penalty, Total Fee.\\nImport Date column will be populated with the date when record was uploaded in the System by data team.\\n'"
      ]
     },
     "execution_count": 7,
     "metadata": {},
     "output_type": "execute_result"
    }
   ],
   "source": [
    "text"
   ]
  },
  {
   "cell_type": "code",
   "execution_count": 9,
   "metadata": {},
   "outputs": [],
   "source": [
    "import re\n",
    "import string\n",
    "def CleanText(Text):\n",
    "    Text = re.sub(r'html',' ',Text)\n",
    "    Text = re.sub(r'<div>',' ',Text)\n",
    "    Text = re.sub(r'<p>',' ',Text)\n",
    "    Text = re.sub(r'<pre>',' ',Text)\n",
    "    Text = re.sub(r'<code>',' ',Text)\n",
    "    Text = re.sub(r'html',' ',Text)\n",
    "    Text = re.sub(r'< div>',' ',Text)\n",
    "    Text = re.sub(r'< p>',' ',Text)\n",
    "    Text = re.sub(r'< pre>',' ',Text)\n",
    "    Text = re.sub(r'< code>',' ',Text)\n",
    "    Text = re.sub(r'< code>',' ',Text)\n",
    "    Text = \" \".join(Text.split())\n",
    "    ## Use string method to do further cleanup from punctuation and digits which will may not give any additional insight\n",
    "    trans_punct = str.maketrans('', '', string.punctuation)\n",
    "    trans_digit = str.maketrans('', '', string.digits)\n",
    "    Text = Text.translate(trans_punct)\n",
    "    Text = Text.translate(trans_digit)\n",
    "    Text = Text.lower()\n",
    "    return Text"
   ]
  },
  {
   "cell_type": "code",
   "execution_count": 10,
   "metadata": {},
   "outputs": [],
   "source": [
    "to_pred= CleanText(\"{}\".format(text))"
   ]
  },
  {
   "cell_type": "code",
   "execution_count": 11,
   "metadata": {},
   "outputs": [
    {
     "data": {
      "text/plain": [
       "'user story  as a loan officer i should be able to have chat option against each property to reach out loan officer users in the system acceptance criteriadetails user should be able to view a chat icon against each property in the properties section user should be able to view the chat history in the chat option if it exists user should be able to add the commentsmessages in the chatter feed user should be able to edit and delete its own comments in the chatter feed  user should be able to tag other loan officers in the messages by simply using “” before their name and the user will be provided with name suggestions for different loan officers available in the application for eg as user will be typing  list of all users will be provided to select users from and on type after  ie m user should be able to see the list of all users starting with m tagged users should receive a push notification for the comments they have been tagged in tagged users should be able to view the link to the property in which the comment has been added for the tagged users in the push notification review user should be able to do a text search across the chatter feed so that the user can easily search for the required messages on search user should be provided with the list of all the messages matching the search criteria user should have an option to clear the search on clear chatter feed should set to default ie list of all the messages should be available to view for the user user should be able to add attachments in the form of documents images videos etc across the chatter feed  refer story al user should be able to view and download attachments available in the comments across the chatter feed user should have an option to delete only the attachment added by the logged in user user story  as a loan officer i should be able to upload attachments against properties user should have an option of logging on the property details section to upload documents user should have an option in the property details section to view all the existing files available for the selected property user should be able to view following fields in the list of existing files file name created by created on actions  delete  download user should be able to delete the existing files which have been uploaded by the loggedin user and should not have an option to delete the files uploaded by other loan officers user should have an option for bulk upload to upload more than one file at once user should have an option to attach different types of file against a property following are the permissible file types to be attached jpegpngjpggif up to  mb docxdoctxtpdfexcelcsv upto mb video files system should not allow the user to upload with total size of the uploaded files more than mb user should be able to view the progress bar to view upload progress for each file if the file to be uploaded by the user has the same name as of a file already existing against the same property then the file name for the new uploaded file will have  copy appended at the end a success message stating file uploaded successfully should be shown on the screen on successful file upload in case of any failure in uploading files inspection user should be provided with a meaningful and informative error message user story  as an underwriter user i should be able to export all the available data against events acceptance criteriadetails underwriter user should be able to export all the data pointscolumns available against an event in the database user should have an option to choose desired data to be exported against an event in case of any data pointcolumn added dynamically via etl the data pointcplumn should be available in the list of exportable columns user should be able to export all the selected columns in an excel file user should not be able to view any column in the exportable list of columns that does not exist in the database against events in case of any failure while exporting the data into excel user should be provided with an error message stating the useful information along with the reason of failure user story  as a servicing user i should be able to view the events data and approve or reject events acceptance criteriadetails user should be presented with an event information screen in read only mode user should be able to view below event information  event id state jurisdiction acquisition date financing group purchasing entity lien hierarchy total assets total tax amount total overbid total premium total interestpenalty total fee total purchase import date headers will be fixed in the list and the list will scroll horizontally and vertically user will have the ability to approve or reject the events if the user clicks on approve  if the user clicks on reject then the user needs to select the appropriate reason for rejection from the dropdown provided in the reject reason column reject reason will be disabled by default on click of reject the reason dropdown will become enabled as a mandatory option to select if user refreshes the page without clicking save the changes will not be saved and list will be refreshed to the original state on clicking save  save option will be shown only if the user approves or rejects any event from the pending events list if the user does not select any of the options ie approve and reject event then the event will remain in the list as is and would be available for displayed  total purchase amount will be derived by sum of total tax amount total overbid total premium total interestpenalty total fee import date column will be populated with the date when record was uploaded in the system by data team'"
      ]
     },
     "execution_count": 11,
     "metadata": {},
     "output_type": "execute_result"
    }
   ],
   "source": [
    "to_pred"
   ]
  },
  {
   "cell_type": "code",
   "execution_count": 12,
   "metadata": {},
   "outputs": [],
   "source": [
    "nlp = spacy.load('en_core_web_sm')\n",
    "matcher = PhraseMatcher(nlp.vocab)"
   ]
  },
  {
   "cell_type": "code",
   "execution_count": 13,
   "metadata": {},
   "outputs": [],
   "source": [
    "terms = [\"inspection\", \"survey\", \"analysis\", \"Audit\", \"logging\", \"sign\", \"login\", \"signed in\",\"chat\" , \"upload\" , \"attachment\" , \"download\", \"DOCX\", \"doc\", \"pdf\" , \"excel\" , \"csv\", \"kb\" , \"mb\" , \"gb\" , \"video\" , \"ETL\" , \"export\",  \"import\", \"word\"]"
   ]
  },
  {
   "cell_type": "code",
   "execution_count": 14,
   "metadata": {},
   "outputs": [],
   "source": [
    "pattern = [nlp.make_doc(text) for text in terms]"
   ]
  },
  {
   "cell_type": "code",
   "execution_count": 15,
   "metadata": {},
   "outputs": [
    {
     "data": {
      "text/plain": [
       "[inspection,\n",
       " survey,\n",
       " analysis,\n",
       " Audit,\n",
       " logging,\n",
       " sign,\n",
       " login,\n",
       " signed in,\n",
       " chat,\n",
       " upload,\n",
       " attachment,\n",
       " download,\n",
       " DOCX,\n",
       " doc,\n",
       " pdf,\n",
       " excel,\n",
       " csv,\n",
       " kb,\n",
       " mb,\n",
       " gb,\n",
       " video,\n",
       " ETL,\n",
       " export,\n",
       " import,\n",
       " word]"
      ]
     },
     "execution_count": 15,
     "metadata": {},
     "output_type": "execute_result"
    }
   ],
   "source": [
    "pattern"
   ]
  },
  {
   "cell_type": "code",
   "execution_count": 16,
   "metadata": {},
   "outputs": [],
   "source": [
    "matcher.add('term', None, *pattern)"
   ]
  },
  {
   "cell_type": "code",
   "execution_count": 17,
   "metadata": {},
   "outputs": [],
   "source": [
    "doc = nlp(to_pred)"
   ]
  },
  {
   "cell_type": "code",
   "execution_count": 18,
   "metadata": {},
   "outputs": [
    {
     "data": {
      "text/plain": [
       "user story  as a loan officer i should be able to have chat option against each property to reach out loan officer users in the system acceptance criteriadetails user should be able to view a chat icon against each property in the properties section user should be able to view the chat history in the chat option if it exists user should be able to add the commentsmessages in the chatter feed user should be able to edit and delete its own comments in the chatter feed  user should be able to tag other loan officers in the messages by simply using “” before their name and the user will be provided with name suggestions for different loan officers available in the application for eg as user will be typing  list of all users will be provided to select users from and on type after  ie m user should be able to see the list of all users starting with m tagged users should receive a push notification for the comments they have been tagged in tagged users should be able to view the link to the property in which the comment has been added for the tagged users in the push notification review user should be able to do a text search across the chatter feed so that the user can easily search for the required messages on search user should be provided with the list of all the messages matching the search criteria user should have an option to clear the search on clear chatter feed should set to default ie list of all the messages should be available to view for the user user should be able to add attachments in the form of documents images videos etc across the chatter feed  refer story al user should be able to view and download attachments available in the comments across the chatter feed user should have an option to delete only the attachment added by the logged in user user story  as a loan officer i should be able to upload attachments against properties user should have an option of logging on the property details section to upload documents user should have an option in the property details section to view all the existing files available for the selected property user should be able to view following fields in the list of existing files file name created by created on actions  delete  download user should be able to delete the existing files which have been uploaded by the loggedin user and should not have an option to delete the files uploaded by other loan officers user should have an option for bulk upload to upload more than one file at once user should have an option to attach different types of file against a property following are the permissible file types to be attached jpegpngjpggif up to  mb docxdoctxtpdfexcelcsv upto mb video files system should not allow the user to upload with total size of the uploaded files more than mb user should be able to view the progress bar to view upload progress for each file if the file to be uploaded by the user has the same name as of a file already existing against the same property then the file name for the new uploaded file will have  copy appended at the end a success message stating file uploaded successfully should be shown on the screen on successful file upload in case of any failure in uploading files inspection user should be provided with a meaningful and informative error message user story  as an underwriter user i should be able to export all the available data against events acceptance criteriadetails underwriter user should be able to export all the data pointscolumns available against an event in the database user should have an option to choose desired data to be exported against an event in case of any data pointcolumn added dynamically via etl the data pointcplumn should be available in the list of exportable columns user should be able to export all the selected columns in an excel file user should not be able to view any column in the exportable list of columns that does not exist in the database against events in case of any failure while exporting the data into excel user should be provided with an error message stating the useful information along with the reason of failure user story  as a servicing user i should be able to view the events data and approve or reject events acceptance criteriadetails user should be presented with an event information screen in read only mode user should be able to view below event information  event id state jurisdiction acquisition date financing group purchasing entity lien hierarchy total assets total tax amount total overbid total premium total interestpenalty total fee total purchase import date headers will be fixed in the list and the list will scroll horizontally and vertically user will have the ability to approve or reject the events if the user clicks on approve  if the user clicks on reject then the user needs to select the appropriate reason for rejection from the dropdown provided in the reject reason column reject reason will be disabled by default on click of reject the reason dropdown will become enabled as a mandatory option to select if user refreshes the page without clicking save the changes will not be saved and list will be refreshed to the original state on clicking save  save option will be shown only if the user approves or rejects any event from the pending events list if the user does not select any of the options ie approve and reject event then the event will remain in the list as is and would be available for displayed  total purchase amount will be derived by sum of total tax amount total overbid total premium total interestpenalty total fee import date column will be populated with the date when record was uploaded in the system by data team"
      ]
     },
     "execution_count": 18,
     "metadata": {},
     "output_type": "execute_result"
    }
   ],
   "source": [
    "doc"
   ]
  },
  {
   "cell_type": "code",
   "execution_count": 19,
   "metadata": {},
   "outputs": [],
   "source": [
    "matches = matcher(doc)"
   ]
  },
  {
   "cell_type": "code",
   "execution_count": 20,
   "metadata": {},
   "outputs": [],
   "source": [
    "keywords_list = []\n",
    "for match_id, start, end in matches:\n",
    "    span = doc[start:end]\n",
    "    keywords_list.append(span.text)"
   ]
  },
  {
   "cell_type": "code",
   "execution_count": 21,
   "metadata": {},
   "outputs": [
    {
     "data": {
      "text/plain": [
       "['chat',\n",
       " 'chat',\n",
       " 'chat',\n",
       " 'chat',\n",
       " 'download',\n",
       " 'attachment',\n",
       " 'upload',\n",
       " 'logging',\n",
       " 'upload',\n",
       " 'download',\n",
       " 'upload',\n",
       " 'upload',\n",
       " 'mb',\n",
       " 'mb',\n",
       " 'video',\n",
       " 'upload',\n",
       " 'mb',\n",
       " 'upload',\n",
       " 'upload',\n",
       " 'inspection',\n",
       " 'export',\n",
       " 'export',\n",
       " 'export',\n",
       " 'excel',\n",
       " 'excel',\n",
       " 'import',\n",
       " 'import']"
      ]
     },
     "execution_count": 21,
     "metadata": {},
     "output_type": "execute_result"
    }
   ],
   "source": [
    "keywords_list"
   ]
  },
  {
   "cell_type": "code",
   "execution_count": 22,
   "metadata": {},
   "outputs": [
    {
     "data": {
      "text/plain": [
       "{'attachment',\n",
       " 'chat',\n",
       " 'download',\n",
       " 'excel',\n",
       " 'export',\n",
       " 'import',\n",
       " 'inspection',\n",
       " 'logging',\n",
       " 'mb',\n",
       " 'upload',\n",
       " 'video'}"
      ]
     },
     "execution_count": 22,
     "metadata": {},
     "output_type": "execute_result"
    }
   ],
   "source": [
    "set(keywords_list)"
   ]
  },
  {
   "cell_type": "code",
   "execution_count": null,
   "metadata": {},
   "outputs": [],
   "source": []
  }
 ],
 "metadata": {
  "kernelspec": {
   "display_name": "Python 3",
   "language": "python",
   "name": "python3"
  },
  "language_info": {
   "codemirror_mode": {
    "name": "ipython",
    "version": 3
   },
   "file_extension": ".py",
   "mimetype": "text/x-python",
   "name": "python",
   "nbconvert_exporter": "python",
   "pygments_lexer": "ipython3",
   "version": "3.7.3"
  }
 },
 "nbformat": 4,
 "nbformat_minor": 2
}
