{
 "cells": [
  {
   "cell_type": "code",
   "execution_count": 12,
   "metadata": {},
   "outputs": [],
   "source": [
    "from flashtext import KeywordProcessor\n",
    "import re\n",
    "import string"
   ]
  },
  {
   "cell_type": "code",
   "execution_count": 32,
   "metadata": {},
   "outputs": [],
   "source": [
    "keyword_processor = KeywordProcessor()"
   ]
  },
  {
   "cell_type": "code",
   "execution_count": 23,
   "metadata": {},
   "outputs": [],
   "source": [
    "keyword_dict = {\"Audit\": [\"inspection\", \"survey\", \"analysis\", \"Audit\"],\n",
    "                \"Authorize\": [\"sign\", \"Logging\", \"signed in\"]\n",
    "               }"
   ]
  },
  {
   "cell_type": "code",
   "execution_count": 24,
   "metadata": {},
   "outputs": [],
   "source": [
    "keyword_processor.add_keywords_from_dict(keyword_dict)"
   ]
  },
  {
   "cell_type": "code",
   "execution_count": 25,
   "metadata": {},
   "outputs": [],
   "source": [
    "def CleanText(Text):\n",
    "    Text = re.sub(r'html',' ',Text)\n",
    "    Text = re.sub(r'<div>',' ',Text)\n",
    "    Text = re.sub(r'<p>',' ',Text)\n",
    "    Text = re.sub(r'<pre>',' ',Text)\n",
    "    Text = re.sub(r'<code>',' ',Text)\n",
    "    Text = re.sub(r'html',' ',Text)\n",
    "    Text = re.sub(r'< div>',' ',Text)\n",
    "    Text = re.sub(r'< p>',' ',Text)\n",
    "    Text = re.sub(r'< pre>',' ',Text)\n",
    "    Text = re.sub(r'< code>',' ',Text)\n",
    "    Text = re.sub(r'< code>',' ',Text)\n",
    "    Text = \" \".join(Text.split())\n",
    "    ## Use string method to do further cleanup from punctuation and digits which will may not give any additional insight\n",
    "    trans_punct = str.maketrans('', '', string.punctuation)\n",
    "    trans_digit = str.maketrans('', '', string.digits)\n",
    "    Text = Text.translate(trans_punct)\n",
    "    Text = Text.translate(trans_digit)\n",
    "    Text = Text.lower()\n",
    "    return Text"
   ]
  },
  {
   "cell_type": "code",
   "execution_count": 26,
   "metadata": {},
   "outputs": [],
   "source": [
    "import readdocx"
   ]
  },
  {
   "cell_type": "code",
   "execution_count": 27,
   "metadata": {},
   "outputs": [],
   "source": [
    "text = readdocx.getDocxText('C:\\\\Users\\\\14399\\\\Downloads\\\\userStory.docx')"
   ]
  },
  {
   "cell_type": "code",
   "execution_count": 28,
   "metadata": {},
   "outputs": [],
   "source": [
    "to_pred= CleanText(\"{}\".format(text))"
   ]
  },
  {
   "cell_type": "code",
   "execution_count": 29,
   "metadata": {},
   "outputs": [
    {
     "data": {
      "text/plain": [
       "'user story  as a loan officer i should be able to have chat option against each property to reach out loan officer users in the system acceptance criteriadetails user should be able to view a chat icon against each property in the properties section user should be able to view the chat history in the chat option if it exists user should be able to add the commentsmessages in the chatter feed user should be able to edit and delete its own comments in the chatter feed  user should be able to tag other loan officers in the messages by simply using “” before their name and the user will be provided with name suggestions for different loan officers available in the application for eg as user will be typing  list of all users will be provided to select users from and on type after  ie m user should be able to see the list of all users starting with m tagged users should receive a push notification for the comments they have been tagged in tagged users should be able to view the link to the property in which the comment has been added for the tagged users in the push notification review user should be able to do a text search across the chatter feed so that the user can easily search for the required messages on search user should be provided with the list of all the messages matching the search criteria user should have an option to clear the search on clear chatter feed should set to default ie list of all the messages should be available to view for the user user should be able to add attachments in the form of documents images videos etc across the chatter feed  refer story al user should be able to view and download attachments available in the comments across the chatter feed user should have an option to delete only the attachment added by the logged in user user story  as a loan officer i should be able to upload attachments against properties user should have an option of logging on the property details section to upload documents user should have an option in the property details section to view all the existing files available for the selected property user should be able to view following fields in the list of existing files file name created by created on actions  delete  download user should be able to delete the existing files which have been uploaded by the loggedin user and should not have an option to delete the files uploaded by other loan officers user should have an option for bulk upload to upload more than one file at once user should have an option to attach different types of file against a property following are the permissible file types to be attached jpegpngjpggif up to  mb docxdoctxtpdfexcelcsv upto mb video files system should not allow the user to upload with total size of the uploaded files more than mb user should be able to view the progress bar to view upload progress for each file if the file to be uploaded by the user has the same name as of a file already existing against the same property then the file name for the new uploaded file will have  copy appended at the end a success message stating file uploaded successfully should be shown on the screen on successful file upload in case of any failure in uploading files user should be provided with a meaningful and informative error message user story  as an underwriter user i should be able to export all the available data against events acceptance criteriadetails underwriter user should be able to export all the data pointscolumns available against an event in the database user should have an option to choose desired data to be exported against an event in case of any data pointcolumn added dynamically via etl the data pointcplumn should be available in the list of exportable columns user should be able to export all the selected columns in an excel file user should not be able to view any column in the exportable list of columns that does not exist in the database against events in case of any failure while exporting the data into excel user should be provided with an error message stating the useful information along with the reason of failure user story  as a servicing user i should be able to view the events data and approve or reject events acceptance criteriadetails user should be presented with an event information screen in read only mode user should be able to view below event information  event id state jurisdiction acquisition date financing group purchasing entity lien hierarchy total assets total tax amount total overbid total premium total interestpenalty total fee total purchase import date headers will be fixed in the list and the list will scroll horizontally and vertically user will have the ability to approve or reject the events if the user clicks on approve  if the user clicks on reject then the user needs to select the appropriate reason for rejection from the dropdown provided in the reject reason column reject reason will be disabled by default on click of reject the reason dropdown will become enabled as a mandatory option to select if user refreshes the page without clicking save the changes will not be saved and list will be refreshed to the original state on clicking save  save option will be shown only if the user approves or rejects any event from the pending events list if the user does not select any of the options ie approve and reject event then the event will remain in the list as is and would be available for displayed  total purchase amount will be derived by sum of total tax amount total overbid total premium total interestpenalty total fee import date column will be populated with the date when record was uploaded in the system by data team'"
      ]
     },
     "execution_count": 29,
     "metadata": {},
     "output_type": "execute_result"
    }
   ],
   "source": [
    "to_pred"
   ]
  },
  {
   "cell_type": "code",
   "execution_count": 30,
   "metadata": {},
   "outputs": [],
   "source": [
    "terms = keyword_processor.extract_keywords(to_pred)"
   ]
  },
  {
   "cell_type": "code",
   "execution_count": 31,
   "metadata": {},
   "outputs": [
    {
     "data": {
      "text/plain": [
       "['Authorize']"
      ]
     },
     "execution_count": 31,
     "metadata": {},
     "output_type": "execute_result"
    }
   ],
   "source": [
    "terms"
   ]
  },
  {
   "cell_type": "code",
   "execution_count": null,
   "metadata": {},
   "outputs": [],
   "source": []
  },
  {
   "cell_type": "code",
   "execution_count": null,
   "metadata": {},
   "outputs": [],
   "source": []
  }
 ],
 "metadata": {
  "kernelspec": {
   "display_name": "Python 3",
   "language": "python",
   "name": "python3"
  },
  "language_info": {
   "codemirror_mode": {
    "name": "ipython",
    "version": 3
   },
   "file_extension": ".py",
   "mimetype": "text/x-python",
   "name": "python",
   "nbconvert_exporter": "python",
   "pygments_lexer": "ipython3",
   "version": "3.7.3"
  }
 },
 "nbformat": 4,
 "nbformat_minor": 2
}
